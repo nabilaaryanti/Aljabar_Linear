{
  "nbformat": 4,
  "nbformat_minor": 0,
  "metadata": {
    "colab": {
      "name": "Sistem Persamaan Linear.ipynb",
      "provenance": [],
      "authorship_tag": "ABX9TyP6BRZG+eJefmaLaJoBctAc",
      "include_colab_link": true
    },
    "kernelspec": {
      "name": "python3",
      "display_name": "Python 3"
    },
    "language_info": {
      "name": "python"
    }
  },
  "cells": [
    {
      "cell_type": "markdown",
      "metadata": {
        "id": "view-in-github",
        "colab_type": "text"
      },
      "source": [
        "<a href=\"https://colab.research.google.com/github/nabilaaryanti/Aljabar_Linear/blob/main/Sistem_Persamaan_Linear.ipynb\" target=\"_parent\"><img src=\"https://colab.research.google.com/assets/colab-badge.svg\" alt=\"Open In Colab\"/></a>"
      ]
    },
    {
      "cell_type": "markdown",
      "source": [
        "Soal\n",
        "\n",
        "Sebuah pabrik lensa memiliki 4 unit mesin, yaitu A,B, C dan D. Jika semua mesin bekerja, maka sebanyak 12.400 lensa dapat dihasilkan dalam waktu satu minggu. Jika hanya menggunakan mesin A, B dan C yang bekerja, maka 8.200 lensa dapat dihasilkan dalam satu minggu. Lalu, jika pabrik hanya menggunakan mesin A, C dan D, maka 9.500 lensa dapat dihasilkan dalam satu minggu. Sedangkan jika pabrik menggunakan hanya mesin A dan D, maka 5.600 lensa dapat dihasilkan setiap minggunya. Berapa banyak lensa yang dihasilkan tiap-tiap mesin dalam waktu satu minggu? Manakah mesin yang dapat menghasilkan lensa terbanyak?"
      ],
      "metadata": {
        "id": "C95XFqtSTqK3"
      }
    },
    {
      "cell_type": "code",
      "execution_count": null,
      "metadata": {
        "id": "2RPJt-VrTdoC"
      },
      "outputs": [],
      "source": [
        "# Instalisasi Library yang dibutuhkan\n",
        "# Untuk menyelesaikan suatu SPL membutuhkan library Numpy\n",
        "import numpy as np"
      ]
    },
    {
      "cell_type": "markdown",
      "source": [
        "Selanjutnya kita gunakan funsi array pada NumPy yang berfungsi untuk menyimpan data sebagai grid atau matriks."
      ],
      "metadata": {
        "id": "Q80yLFkecUFj"
      }
    },
    {
      "cell_type": "code",
      "source": [
        "# Defisikan 2 buah variabel untuk menampung matriks koefien dan matriks konstanta\n",
        "# Variabel M berisi matriks koefisien SPL\n",
        "M = np.array([(1, 1, 1, 1),  #baris 1\n",
        "             (1, 1, 1, 0),  #baris 2\n",
        "             (1, 0, 1, 1),  #baris 3\n",
        "             (1, 0, 0, 1)]) #baris 4"
      ],
      "metadata": {
        "id": "1JV-OX8SZ5Oa"
      },
      "execution_count": null,
      "outputs": []
    },
    {
      "cell_type": "code",
      "source": [
        "# Variabel N berisi matriks konstanta SPL\n",
        "N = np.array([12400, 8200, 9500, 5600])"
      ],
      "metadata": {
        "id": "nuSEcn8Gabe3"
      },
      "execution_count": null,
      "outputs": []
    },
    {
      "cell_type": "markdown",
      "source": [
        "Setelah mendefinisikan kedua variabel matriks, akan digunakan sebuah fungsi untuk memecahkan persamaan aljabar linear yaitu \"linalg\""
      ],
      "metadata": {
        "id": "23kV2dF2czVl"
      }
    },
    {
      "cell_type": "code",
      "source": [
        "# fungsi linalg pada numpy berfungsi untuk membantu memecahkan persamaan aljabar linear\n",
        "x = np.linalg.solve(M,N)\n",
        "\n",
        "# Print jawaban\n",
        "print(\"Mesin A : \", int(x[0]))\n",
        "print(\"Mesin B : \", int(x[1]))\n",
        "print(\"Mesin C : \", int(x[2]))\n",
        "print(\"Mesin D : \", int(x[3]))"
      ],
      "metadata": {
        "colab": {
          "base_uri": "https://localhost:8080/"
        },
        "id": "W-Nm8O8RcIXw",
        "outputId": "b2e3ba0b-95d3-4929-807b-6ff9e24cb3eb"
      },
      "execution_count": null,
      "outputs": [
        {
          "output_type": "stream",
          "name": "stdout",
          "text": [
            "Mesin A :  1400\n",
            "Mesin B :  2900\n",
            "Mesin C :  3900\n",
            "Mesin D :  4200\n"
          ]
        }
      ]
    },
    {
      "cell_type": "markdown",
      "source": [
        "Mencari Determinan Matriks Menggunakan Python"
      ],
      "metadata": {
        "id": "stWzqvcriYRF"
      }
    },
    {
      "cell_type": "code",
      "source": [
        "# Instalisasi Library yang dibutuhkan\n",
        "# Untuk menyelesaikan suatu Determinan matriks dibutuhkan library Numpy\n",
        "import numpy as np"
      ],
      "metadata": {
        "id": "q6RRqdrhidHi"
      },
      "execution_count": null,
      "outputs": []
    },
    {
      "cell_type": "code",
      "source": [
        "# Definisikan sebuah variabel untuk menampung matriks nxn\n",
        "# Pada contoh ini adalah matriks dengan ordo 4x4 dan 6x6\n",
        "#contoh 1 (matriks 4x4)\n",
        "A = np.array([(1, 1, 1, 1),  #baris 1\n",
        "             (1, 1, 1, 0),  #baris 2\n",
        "             (1, 0, 1, 1),  #baris 3\n",
        "             (1, 0, 0, 1)]) #baris 4\n",
        "\n",
        "#print matriks A\n",
        "print(A)"
      ],
      "metadata": {
        "colab": {
          "base_uri": "https://localhost:8080/"
        },
        "id": "Z-kc5ZAeimWu",
        "outputId": "1b1fef86-743f-48ac-950a-3c1e8522b343"
      },
      "execution_count": null,
      "outputs": [
        {
          "output_type": "stream",
          "name": "stdout",
          "text": [
            "[[1 1 1 1]\n",
            " [1 1 1 0]\n",
            " [1 0 1 1]\n",
            " [1 0 0 1]]\n"
          ]
        }
      ]
    },
    {
      "cell_type": "code",
      "source": [
        "# Untuk mencari determinan, gunakan fungsi linalg.det() \n",
        "Det_A = np.linalg.det(A) #determinan dari matriks A\n",
        "\n",
        "# print jawaban\n",
        "print(\"Determinan matriks A adalah\", int(Det_A))"
      ],
      "metadata": {
        "colab": {
          "base_uri": "https://localhost:8080/"
        },
        "id": "9iISYp4mkDPH",
        "outputId": "c722e13a-342b-415f-bc5a-bf6fea9138d7"
      },
      "execution_count": null,
      "outputs": [
        {
          "output_type": "stream",
          "name": "stdout",
          "text": [
            "Determinan matriks A adalah -1\n"
          ]
        }
      ]
    },
    {
      "cell_type": "code",
      "source": [
        "# contoh 2 (matriks 6x6)\n",
        "B = np.array([(1, 2, 3, 4, 5, 2),  #baris 1\n",
        "             (1, 1, 3, 0, 1, 0),   #baris 2\n",
        "             (2, 0, 2, 1, 0, 4),   #baris 3\n",
        "             (0, 0, 3, 1, 2, 2),   #baris 4\n",
        "             (4, 0, 0, 1, 0, 0),   #baris 5\n",
        "             (1, 1, 2, 2, 3, 3)])  #baris 6\n",
        "\n",
        "#print matriks B\n",
        "print(B)"
      ],
      "metadata": {
        "colab": {
          "base_uri": "https://localhost:8080/"
        },
        "id": "oxZocZUOjR5B",
        "outputId": "3ef49437-c4df-422f-93ad-a4437d4b1806"
      },
      "execution_count": null,
      "outputs": [
        {
          "output_type": "stream",
          "name": "stdout",
          "text": [
            "[[1 2 3 4 5 2]\n",
            " [1 1 3 0 1 0]\n",
            " [2 0 2 1 0 4]\n",
            " [0 0 3 1 2 2]\n",
            " [4 0 0 1 0 0]\n",
            " [1 1 2 2 3 3]]\n"
          ]
        }
      ]
    },
    {
      "cell_type": "code",
      "source": [
        "# Untuk mencari determinan, gunakan fungsi linalg.det() \n",
        "Det_B = np.linalg.det(B) #determinan dari matriks A\n",
        "\n",
        "# print jawaban\n",
        "print(\"Determinan matriks A adalah\", int(Det_B))"
      ],
      "metadata": {
        "colab": {
          "base_uri": "https://localhost:8080/"
        },
        "id": "EtUriGsLknkT",
        "outputId": "17e06d44-7a66-445a-ae97-dd4b7b5821b8"
      },
      "execution_count": null,
      "outputs": [
        {
          "output_type": "stream",
          "name": "stdout",
          "text": [
            "Determinan matriks A adalah 217\n"
          ]
        }
      ]
    },
    {
      "cell_type": "code",
      "source": [
        ""
      ],
      "metadata": {
        "id": "wKu9uugvkxnn"
      },
      "execution_count": null,
      "outputs": []
    }
  ]
}