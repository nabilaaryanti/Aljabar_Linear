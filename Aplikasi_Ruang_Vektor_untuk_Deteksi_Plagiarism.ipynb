{
  "nbformat": 4,
  "nbformat_minor": 0,
  "metadata": {
    "colab": {
      "name": "Aplikasi Ruang Vektor untuk Deteksi Plagiarism",
      "provenance": [],
      "authorship_tag": "ABX9TyNDfbutcOWpS6l1EpAqo1QJ",
      "include_colab_link": true
    },
    "kernelspec": {
      "name": "python3",
      "display_name": "Python 3"
    },
    "language_info": {
      "name": "python"
    }
  },
  "cells": [
    {
      "cell_type": "markdown",
      "metadata": {
        "id": "view-in-github",
        "colab_type": "text"
      },
      "source": [
        "<a href=\"https://colab.research.google.com/github/nabilaaryanti/Aljabar_Linear/blob/main/Aplikasi_Ruang_Vektor_untuk_Deteksi_Plagiarism.ipynb\" target=\"_parent\"><img src=\"https://colab.research.google.com/assets/colab-badge.svg\" alt=\"Open In Colab\"/></a>"
      ]
    },
    {
      "cell_type": "code",
      "source": [
        "! git clone https://github.com/nabilaaryanti/Aljabar_Linear.git"
      ],
      "metadata": {
        "colab": {
          "base_uri": "https://localhost:8080/"
        },
        "id": "PQk0N1Fiasmi",
        "outputId": "015eed18-d59b-474b-ddb1-e532917a3cce"
      },
      "execution_count": 1,
      "outputs": [
        {
          "output_type": "stream",
          "name": "stdout",
          "text": [
            "Cloning into 'Aljabar_Linear'...\n",
            "remote: Enumerating objects: 25, done.\u001b[K\n",
            "remote: Counting objects: 100% (25/25), done.\u001b[K\n",
            "remote: Compressing objects: 100% (18/18), done.\u001b[K\n",
            "remote: Total 25 (delta 6), reused 0 (delta 0), pack-reused 0\u001b[K\n",
            "Unpacking objects: 100% (25/25), done.\n"
          ]
        }
      ]
    },
    {
      "cell_type": "code",
      "execution_count": 2,
      "metadata": {
        "id": "GJEhba_S91NF"
      },
      "outputs": [],
      "source": [
        "import os\n",
        "from numpy import vectorize \n",
        "from sklearn.feature_extraction.text import TfidfVectorizer\n",
        "from sklearn.metrics.pairwise import cosine_similarity"
      ]
    },
    {
      "cell_type": "code",
      "source": [
        "os.chdir(\"/content/Aljabar_Linear/Data\")"
      ],
      "metadata": {
        "id": "YGgYOeefa1sC"
      },
      "execution_count": 13,
      "outputs": []
    },
    {
      "cell_type": "code",
      "source": [
        "sample_files = [doc for doc in os.listdir() if doc.endswith('.txt')]\n",
        "sample_files"
      ],
      "metadata": {
        "id": "rtLF-XTzEoNv",
        "colab": {
          "base_uri": "https://localhost:8080/"
        },
        "outputId": "8668f273-939b-47a3-df56-618109241401"
      },
      "execution_count": 14,
      "outputs": [
        {
          "output_type": "execute_result",
          "data": {
            "text/plain": [
              "['doc2.txt', 'doc3.txt', 'doc1.txt']"
            ]
          },
          "metadata": {},
          "execution_count": 14
        }
      ]
    },
    {
      "cell_type": "code",
      "source": [
        "open('doc1.txt').read()"
      ],
      "metadata": {
        "colab": {
          "base_uri": "https://localhost:8080/",
          "height": 35
        },
        "id": "qGmJrtgKb1m4",
        "outputId": "892abbed-87ca-4a68-9de3-05744e88dcac"
      },
      "execution_count": 15,
      "outputs": [
        {
          "output_type": "execute_result",
          "data": {
            "text/plain": [
              "'Saya tidak suka buah mangga'"
            ],
            "application/vnd.google.colaboratory.intrinsic+json": {
              "type": "string"
            }
          },
          "metadata": {},
          "execution_count": 15
        }
      ]
    },
    {
      "cell_type": "code",
      "source": [
        "sample_contents = [open(File).read() for File in sample_files]\n",
        "sample_contents"
      ],
      "metadata": {
        "id": "Xm21TRixE0Zn",
        "colab": {
          "base_uri": "https://localhost:8080/"
        },
        "outputId": "b2cf02c5-28d1-4bcb-d3da-12494112276e"
      },
      "execution_count": 16,
      "outputs": [
        {
          "output_type": "execute_result",
          "data": {
            "text/plain": [
              "['Saya suka makan buah mangga',\n",
              " 'Saya tidak suka makan buah apapun',\n",
              " 'Saya tidak suka buah mangga']"
            ]
          },
          "metadata": {},
          "execution_count": 16
        }
      ]
    },
    {
      "cell_type": "code",
      "source": [
        "vectorize = lambda Text: TfidfVectorizer().fit_transform(Text).toarray()\n",
        "vectorize"
      ],
      "metadata": {
        "id": "ikeojG9OE3Um",
        "colab": {
          "base_uri": "https://localhost:8080/"
        },
        "outputId": "264e662a-95b8-481e-b050-a34c374d2180"
      },
      "execution_count": 7,
      "outputs": [
        {
          "output_type": "execute_result",
          "data": {
            "text/plain": [
              "<function __main__.<lambda>>"
            ]
          },
          "metadata": {},
          "execution_count": 7
        }
      ]
    },
    {
      "cell_type": "code",
      "source": [
        "similarity = lambda doc1, doc2: cosine_similarity([doc1, doc2])\n",
        "similarity"
      ],
      "metadata": {
        "id": "R18gKHpPE3bl",
        "colab": {
          "base_uri": "https://localhost:8080/"
        },
        "outputId": "e8c4f90b-ea42-4156-b604-1d9cb1ef55f6"
      },
      "execution_count": 8,
      "outputs": [
        {
          "output_type": "execute_result",
          "data": {
            "text/plain": [
              "<function __main__.<lambda>>"
            ]
          },
          "metadata": {},
          "execution_count": 8
        }
      ]
    },
    {
      "cell_type": "code",
      "source": [
        "vectors = vectorize(sample_contents)\n",
        "vectors"
      ],
      "metadata": {
        "colab": {
          "base_uri": "https://localhost:8080/"
        },
        "id": "QzApeKchE8XA",
        "outputId": "49b9c692-9c6b-4028-b163-7632056aa520"
      },
      "execution_count": 18,
      "outputs": [
        {
          "output_type": "execute_result",
          "data": {
            "text/plain": [
              "array([[0.        , 0.3978967 , 0.51236445, 0.51236445, 0.3978967 ,\n",
              "        0.3978967 , 0.        ],\n",
              "       [0.55873062, 0.32999531, 0.42492904, 0.        , 0.32999531,\n",
              "        0.32999531, 0.42492904],\n",
              "       [0.        , 0.3978967 , 0.        , 0.51236445, 0.3978967 ,\n",
              "        0.3978967 , 0.51236445]])"
            ]
          },
          "metadata": {},
          "execution_count": 18
        }
      ]
    },
    {
      "cell_type": "code",
      "source": [
        "s_vectors = list(zip(sample_files, vectors))\n",
        "s_vectors"
      ],
      "metadata": {
        "id": "dEeMMfEmE8d0",
        "colab": {
          "base_uri": "https://localhost:8080/"
        },
        "outputId": "68c38812-24d1-41b4-9966-356d8fe54b4a"
      },
      "execution_count": 19,
      "outputs": [
        {
          "output_type": "execute_result",
          "data": {
            "text/plain": [
              "[('doc2.txt',\n",
              "  array([0.        , 0.3978967 , 0.51236445, 0.51236445, 0.3978967 ,\n",
              "         0.3978967 , 0.        ])),\n",
              " ('doc3.txt',\n",
              "  array([0.55873062, 0.32999531, 0.42492904, 0.        , 0.32999531,\n",
              "         0.32999531, 0.42492904])),\n",
              " ('doc1.txt',\n",
              "  array([0.        , 0.3978967 , 0.        , 0.51236445, 0.3978967 ,\n",
              "         0.3978967 , 0.51236445]))]"
            ]
          },
          "metadata": {},
          "execution_count": 19
        }
      ]
    },
    {
      "cell_type": "code",
      "source": [
        "def check_plagiarism():\n",
        "    results = set()\n",
        "    global s_vectors\n",
        "    for sample_a, text_vector_a in s_vectors:\n",
        "        new_vectors = s_vectors.copy()\n",
        "        current_index = new_vectors.index((sample_a, text_vector_a))\n",
        "        del new_vectors[current_index]\n",
        "        for sample_b, text_vector_b in new_vectors:\n",
        "            sim_score = similarity(text_vector_a, text_vector_b)[0][1]\n",
        "            sample_pair = sorted((sample_a, sample_b))\n",
        "            score = sample_pair[0], sample_pair[1], sim_score\n",
        "            results.add(score)\n",
        "    return results"
      ],
      "metadata": {
        "id": "7qZ51u_xFCUU"
      },
      "execution_count": 20,
      "outputs": []
    },
    {
      "cell_type": "code",
      "source": [
        "for data in check_plagiarism():\n",
        "    print(data)"
      ],
      "metadata": {
        "id": "AEC1VrHcFGAj",
        "colab": {
          "base_uri": "https://localhost:8080/"
        },
        "outputId": "26d2b6c3-44fd-4094-904d-38f63706b4a7"
      },
      "execution_count": 21,
      "outputs": [
        {
          "output_type": "stream",
          "name": "stdout",
          "text": [
            "('doc1.txt', 'doc3.txt', 0.6116306633888977)\n",
            "('doc1.txt', 'doc2.txt', 0.7374826745521686)\n",
            "('doc2.txt', 'doc3.txt', 0.6116306633888977)\n"
          ]
        }
      ]
    }
  ]
}