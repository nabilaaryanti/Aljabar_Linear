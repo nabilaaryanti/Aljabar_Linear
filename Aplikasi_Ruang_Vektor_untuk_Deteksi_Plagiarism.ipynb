{
  "nbformat": 4,
  "nbformat_minor": 0,
  "metadata": {
    "colab": {
      "name": "Aplikasi Ruang Vektor untuk Deteksi Plagiarism",
      "provenance": [],
      "authorship_tag": "ABX9TyNDfbutcOWpS6l1EpAqo1QJ",
      "include_colab_link": true
    },
    "kernelspec": {
      "name": "python3",
      "display_name": "Python 3"
    },
    "language_info": {
      "name": "python"
    }
  },
  "cells": [
    {
      "cell_type": "markdown",
      "metadata": {
        "id": "view-in-github",
        "colab_type": "text"
      },
      "source": [
        "<a href=\"https://colab.research.google.com/github/nabilaaryanti/Aljabar_Linear/blob/main/Aplikasi_Ruang_Vektor_untuk_Deteksi_Plagiarism.ipynb\" target=\"_parent\"><img src=\"https://colab.research.google.com/assets/colab-badge.svg\" alt=\"Open In Colab\"/></a>"
      ]
    },
    {
      "cell_type": "code",
      "source": [
        "! git clone https://github.com/nabilaaryanti/Aljabar_Linear.git"
      ],
      "metadata": {
        "colab": {
          "base_uri": "https://localhost:8080/"
        },
        "id": "PQk0N1Fiasmi",
        "outputId": "8d660ed2-62db-4b1b-dfb4-4d03b997773b"
      },
      "execution_count": 1,
      "outputs": [
        {
          "output_type": "stream",
          "name": "stdout",
          "text": [
            "fatal: destination path 'Aljabar_Linear' already exists and is not an empty directory.\n"
          ]
        }
      ]
    },
    {
      "cell_type": "code",
      "execution_count": 2,
      "metadata": {
        "id": "GJEhba_S91NF"
      },
      "outputs": [],
      "source": [
        "import os\n",
        "from numpy import vectorize \n",
        "from sklearn.feature_extraction.text import TfidfVectorizer\n",
        "from sklearn.metrics.pairwise import cosine_similarity"
      ]
    },
    {
      "cell_type": "code",
      "source": [
        "os.chdir(\"/content/Aljabar_Linear/Data\")"
      ],
      "metadata": {
        "id": "YGgYOeefa1sC"
      },
      "execution_count": 3,
      "outputs": []
    },
    {
      "cell_type": "code",
      "source": [
        "sample_files = [doc for doc in os.listdir() if doc.endswith('.txt')]\n",
        "sample_files"
      ],
      "metadata": {
        "id": "rtLF-XTzEoNv",
        "colab": {
          "base_uri": "https://localhost:8080/"
        },
        "outputId": "b1a83a83-3925-4dd5-cb7a-dc90812ac337"
      },
      "execution_count": 4,
      "outputs": [
        {
          "output_type": "execute_result",
          "data": {
            "text/plain": [
              "['doc2.txt', 'doc3.txt', 'doc1.txt']"
            ]
          },
          "metadata": {},
          "execution_count": 4
        }
      ]
    },
    {
      "cell_type": "code",
      "source": [
        "open('doc1.txt').read()"
      ],
      "metadata": {
        "colab": {
          "base_uri": "https://localhost:8080/",
          "height": 35
        },
        "id": "qGmJrtgKb1m4",
        "outputId": "69d07ee6-1f25-4ee8-b0a8-88cacb11b07a"
      },
      "execution_count": 5,
      "outputs": [
        {
          "output_type": "execute_result",
          "data": {
            "text/plain": [
              "'Saya tidak suka makan buah mangga\\n'"
            ],
            "application/vnd.google.colaboratory.intrinsic+json": {
              "type": "string"
            }
          },
          "metadata": {},
          "execution_count": 5
        }
      ]
    },
    {
      "cell_type": "code",
      "source": [
        "sample_contents = [open(File).read() for File in sample_files]\n",
        "sample_contents"
      ],
      "metadata": {
        "id": "Xm21TRixE0Zn",
        "colab": {
          "base_uri": "https://localhost:8080/"
        },
        "outputId": "dbef188e-9baa-48f9-bede-fe278854cb9e"
      },
      "execution_count": 6,
      "outputs": [
        {
          "output_type": "execute_result",
          "data": {
            "text/plain": [
              "['Saya hanya suka makan buah nanas\\n',\n",
              " 'Saya tidak suka makan buah apapun',\n",
              " 'Saya tidak suka makan buah mangga\\n']"
            ]
          },
          "metadata": {},
          "execution_count": 6
        }
      ]
    },
    {
      "cell_type": "code",
      "source": [
        "vectorize = lambda Text: TfidfVectorizer().fit_transform(Text).toarray()\n",
        "vectorize"
      ],
      "metadata": {
        "id": "ikeojG9OE3Um",
        "colab": {
          "base_uri": "https://localhost:8080/"
        },
        "outputId": "98f126ec-f097-422b-b812-ada4d934cb5c"
      },
      "execution_count": 7,
      "outputs": [
        {
          "output_type": "execute_result",
          "data": {
            "text/plain": [
              "<function __main__.<lambda>>"
            ]
          },
          "metadata": {},
          "execution_count": 7
        }
      ]
    },
    {
      "cell_type": "code",
      "source": [
        "similarity = lambda doc1, doc2: cosine_similarity([doc1, doc2])\n",
        "similarity"
      ],
      "metadata": {
        "id": "R18gKHpPE3bl",
        "colab": {
          "base_uri": "https://localhost:8080/"
        },
        "outputId": "d8746d73-10e4-47ee-f6d3-20e84b024692"
      },
      "execution_count": 8,
      "outputs": [
        {
          "output_type": "execute_result",
          "data": {
            "text/plain": [
              "<function __main__.<lambda>>"
            ]
          },
          "metadata": {},
          "execution_count": 8
        }
      ]
    },
    {
      "cell_type": "code",
      "source": [
        "vectors = vectorize(sample_contents)\n",
        "vectors"
      ],
      "metadata": {
        "colab": {
          "base_uri": "https://localhost:8080/"
        },
        "id": "QzApeKchE8XA",
        "outputId": "e50f594c-d53f-4fa9-9cc4-4469c55affc0"
      },
      "execution_count": 9,
      "outputs": [
        {
          "output_type": "execute_result",
          "data": {
            "text/plain": [
              "array([[0.        , 0.32052772, 0.54270061, 0.32052772, 0.        ,\n",
              "        0.54270061, 0.32052772, 0.32052772, 0.        ],\n",
              "       [0.57989687, 0.34249643, 0.        , 0.34249643, 0.        ,\n",
              "        0.        , 0.34249643, 0.34249643, 0.44102652],\n",
              "       [0.        , 0.34249643, 0.        , 0.34249643, 0.57989687,\n",
              "        0.        , 0.34249643, 0.34249643, 0.44102652]])"
            ]
          },
          "metadata": {},
          "execution_count": 9
        }
      ]
    },
    {
      "cell_type": "code",
      "source": [
        "s_vectors = list(zip(sample_files, vectors))\n",
        "s_vectors"
      ],
      "metadata": {
        "id": "dEeMMfEmE8d0",
        "colab": {
          "base_uri": "https://localhost:8080/"
        },
        "outputId": "89232a01-da78-482e-afb4-36ef374d3e9b"
      },
      "execution_count": 10,
      "outputs": [
        {
          "output_type": "execute_result",
          "data": {
            "text/plain": [
              "[('doc2.txt',\n",
              "  array([0.        , 0.32052772, 0.54270061, 0.32052772, 0.        ,\n",
              "         0.54270061, 0.32052772, 0.32052772, 0.        ])),\n",
              " ('doc3.txt',\n",
              "  array([0.57989687, 0.34249643, 0.        , 0.34249643, 0.        ,\n",
              "         0.        , 0.34249643, 0.34249643, 0.44102652])),\n",
              " ('doc1.txt',\n",
              "  array([0.        , 0.34249643, 0.        , 0.34249643, 0.57989687,\n",
              "         0.        , 0.34249643, 0.34249643, 0.44102652]))]"
            ]
          },
          "metadata": {},
          "execution_count": 10
        }
      ]
    },
    {
      "cell_type": "code",
      "source": [
        "def check_plagiarism():\n",
        "    results = set()\n",
        "    global s_vectors\n",
        "    for sample_a, text_vector_a in s_vectors:\n",
        "        new_vectors = s_vectors.copy()\n",
        "        current_index = new_vectors.index((sample_a, text_vector_a))\n",
        "        del new_vectors[current_index]\n",
        "        for sample_b, text_vector_b in new_vectors:\n",
        "            sim_score = similarity(text_vector_a, text_vector_b)[0][1]\n",
        "            sample_pair = sorted((sample_a, sample_b))\n",
        "            score = sample_pair[0], sample_pair[1], sim_score\n",
        "            results.add(score)\n",
        "    return results"
      ],
      "metadata": {
        "id": "7qZ51u_xFCUU"
      },
      "execution_count": 11,
      "outputs": []
    },
    {
      "cell_type": "code",
      "source": [
        "for data in check_plagiarism():\n",
        "    print(data)"
      ],
      "metadata": {
        "id": "AEC1VrHcFGAj",
        "colab": {
          "base_uri": "https://localhost:8080/"
        },
        "outputId": "c71adde7-7f9a-4fd7-8707-d6aa85672a01"
      },
      "execution_count": 12,
      "outputs": [
        {
          "output_type": "stream",
          "name": "stdout",
          "text": [
            "('doc1.txt', 'doc2.txt', 0.43911841058824574)\n",
            "('doc1.txt', 'doc3.txt', 0.6637196184690205)\n",
            "('doc2.txt', 'doc3.txt', 0.43911841058824574)\n"
          ]
        }
      ]
    }
  ]
}