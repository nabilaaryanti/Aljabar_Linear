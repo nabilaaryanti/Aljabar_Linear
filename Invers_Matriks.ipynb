{
  "nbformat": 4,
  "nbformat_minor": 0,
  "metadata": {
    "colab": {
      "name": "Invers Matriks.ipynb",
      "provenance": [],
      "authorship_tag": "ABX9TyPnmsKpmTIh4CFxC6lXeHsY",
      "include_colab_link": true
    },
    "kernelspec": {
      "name": "python3",
      "display_name": "Python 3"
    },
    "language_info": {
      "name": "python"
    }
  },
  "cells": [
    {
      "cell_type": "markdown",
      "metadata": {
        "id": "view-in-github",
        "colab_type": "text"
      },
      "source": [
        "<a href=\"https://colab.research.google.com/github/nabilaaryanti/Aljabar_Linear/blob/main/Invers_Matriks.ipynb\" target=\"_parent\"><img src=\"https://colab.research.google.com/assets/colab-badge.svg\" alt=\"Open In Colab\"/></a>"
      ]
    },
    {
      "cell_type": "markdown",
      "source": [
        "**Langkah 1:**\n",
        "\n",
        "Install library NumPy pada python. Library NumPy merupakan singkatan dari Numerical Python. NumPy merupakan salah satu library Python yang berfungsi untuk proses komputasi numerik. NumPy memudahkan kita untuk operasi elementwise pada Vektor dan Matriks seperti penjumlahan, perkalian, pangkat, dan operasi lainnya."
      ],
      "metadata": {
        "id": "KR2RtE4UUiaI"
      }
    },
    {
      "cell_type": "code",
      "execution_count": 1,
      "metadata": {
        "id": "tScBgAUXIoRA"
      },
      "outputs": [],
      "source": [
        "import numpy as np"
      ]
    },
    {
      "cell_type": "markdown",
      "source": [
        "**Langkah 2:**\n",
        "\n",
        "Gunakan array pada NumPy yang berfungsi untuk menyimpan data sebagai grid atau matriks. Lalu buat variabel A yang berisi matriks A "
      ],
      "metadata": {
        "id": "DPlEa0PIVJ6f"
      }
    },
    {
      "cell_type": "code",
      "source": [
        "A = np.array([[6, 1, 1, 3],\n",
        "              [4, 0, 5, 1],\n",
        "              [2, 1, 7, 6],\n",
        "              [0, 1, 9, 0]])"
      ],
      "metadata": {
        "id": "TE91CAbqSym4"
      },
      "execution_count": 5,
      "outputs": []
    },
    {
      "cell_type": "markdown",
      "source": [
        "**Langkah 3:**\n",
        "\n",
        "Setelah mendefinisikan sebuah matriks, akan digunakan fungsi linalg.inv(A) untuk mencari invers dari matriks A. linalg merupakan fungsi pada NumPy yang digunakan untuk menyelesaikan persamaan aljabar linear"
      ],
      "metadata": {
        "id": "a6TqT1KOVzaw"
      }
    },
    {
      "cell_type": "code",
      "source": [
        "invers = np.linalg.inv(A)"
      ],
      "metadata": {
        "id": "aO5zCYA0S7aQ"
      },
      "execution_count": 3,
      "outputs": []
    },
    {
      "cell_type": "markdown",
      "source": [
        "Print invers dari matriks A"
      ],
      "metadata": {
        "id": "tJKmYXKRWbjC"
      }
    },
    {
      "cell_type": "code",
      "source": [
        "print(\"Invers Matriks A: \\n\", invers)"
      ],
      "metadata": {
        "colab": {
          "base_uri": "https://localhost:8080/"
        },
        "id": "nYCzZybdS3zA",
        "outputId": "afabb8c6-b5d3-4358-e449-80e7cd92bc67"
      },
      "execution_count": 9,
      "outputs": [
        {
          "output_type": "stream",
          "name": "stdout",
          "text": [
            "Invers Matriks A: \n",
            " [[ 0.13368984  0.10695187  0.02139037 -0.09090909]\n",
            " [-0.00229183  0.02673797  0.14820474 -0.12987013]\n",
            " [-0.12987013  0.18181818  0.06493506 -0.02597403]\n",
            " [ 0.11000764 -0.28342246 -0.11382735  0.23376623]]\n"
          ]
        }
      ]
    },
    {
      "cell_type": "code",
      "source": [
        ""
      ],
      "metadata": {
        "id": "iF745-GbTBXG"
      },
      "execution_count": null,
      "outputs": []
    }
  ]
}